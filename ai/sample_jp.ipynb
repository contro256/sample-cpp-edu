{
 "cells": [
  {
   "cell_type": "markdown",
   "metadata": {},
   "source": [
    "# C++プログラミング入門 🚀\n",
    "\n",
    "Jupyter Notebook と Cling C++インタープリターを使って、C++の基本をインタラクティブに学んでいきましょう！\n",
    "\n",
    "**このノートブックの使い方**\n",
    "1. 各セルには説明（Markdown）とC++コードが含まれています。\n",
    "2. コードセルを選択し、Shift + Enter キーを押すと、そのコードが実行され結果が表示されます。\n",
    "3. 色々な値を試したり、コードを改造したりして、C++の世界を探検してみてください！"
   ]
  },
  {
   "cell_type": "markdown",
   "metadata": {},
   "source": [
    "## 1. Hello, World! 👋 - C++の世界へようこそ\n",
    "\n",
    "プログラミング学習の伝統的な最初のステップは、「Hello, World!」というメッセージを画面に表示することです。\n",
    "C++では、`std::cout` を使って文字や数値を画面に出力します。\n",
    "`#include <iostream>` は、「input/output stream」の略で、コンソールへの出力やキーボードからの入力といった、基本的な入出力操作を行うための機能を使えるようにするための「おまじない」のようなものです。"
   ]
  },
  {
   "cell_type": "code",
   "execution_count": null,
   "metadata": {},
   "outputs": [],
   "source": [
    "#include <iostream>\n",
    "\n",
    "// std::cout を使ってメッセージを表示します。\n",
    "// << は「ストリーム挿入演算子」といい、右側のものを左側のストリームに送るイメージです。\n",
    "// std::endl は改行して、出力バッファをフラッシュ（強制的に出力）します。\n",
    "std::cout << \"Hello, C++ World!\" << std::endl;"
   ]
  },
  {
   "cell_type": "markdown",
   "metadata": {},
   "source": [
    "`std::` って何？ 🤔\n",
    "\n",
    "`std` は「standard」の略で、C++の標準ライブラリに含まれる機能であることを示しています。\n",
    "`cout` や `endl` は、この `std` という名前空間（機能がグループ化されたもの）に属しています。\n",
    "毎回 `std::` と書くのが少し面倒な場合は、`using namespace std;` と書くことで省略できますが、大きなプログラムでは名前の衝突を避けるために `std::` を明記することが推奨されます。\n",
    "このノートブックでは、分かりやすさのために `std::` を付けていきます。"
   ]
  },
  {
   "cell_type": "code",
   "execution_count": null,
   "metadata": {},
   "outputs": [],
   "source": [
    "#include <iostream>\n",
    "using namespace std;\n",
    "\n",
    "cout << \"using namespace std; を使うと、std:: を省略できます！\" << endl;"
   ]
  },
  {
   "cell_type": "markdown",
   "metadata": {},
   "source": [
    "## 2. 型 (Data Types) 🧱 - データを入れる箱の種類\n",
    "\n",
    "プログラムでは、様々な種類のデータ（数値、文字、文字列など）を扱います。\n",
    "「型」とは、データがどのような種類であるかを示すものです。C++は静的型付け言語なので、変数を使う前にその型を宣言する必要があります。\n",
    "\n",
    "主な基本的な型を見ていきましょう。"
   ]
  },
  {
   "cell_type": "markdown",
   "metadata": {},
   "source": [
    "### 整数型 (`int`)\n",
    "整数を扱う型です。例: `-1`, `0`, `100`"
   ]
  },
  {
   "cell_type": "code",
   "execution_count": null,
   "metadata": {},
   "outputs": [],
   "source": [
    "#include <iostream>\n",
    "\n",
    "int age = 17;\n",
    "int score = -200;\n",
    "std::cout << \"私の年齢は: \" << age << std::endl;\n",
    "std::cout << \"テストの点数は: \" << score << \"点\" << std::endl;"
   ]
  },
  {
   "cell_type": "markdown",
   "metadata": {},
   "source": [
    "### 浮動小数点数型 (`double`, `float`)\n",
    "小数を含む数値を扱う型です。`double` の方が `float` よりも精度が高い（より多くの桁数を扱える）ですが、その分メモリを多く使います。一般的には `double` を使うことが多いです。\n",
    "例: `3.14`, `-0.001`, `2.71828`"
   ]
  },
  {
   "cell_type": "code",
   "execution_count": null,
   "metadata": {},
   "outputs": [],
   "source": [
    "#include <iostream>\n",
    "#include <iomanip> // std::fixed や std::setprecision を使うために必要\n",
    "\n",
    "double pi = 3.1415926535;\n",
    "float gravity = 9.8f; // float型のリテラルには末尾に f を付けることが多い\n",
    "\n",
    "std::cout << \"円周率 Pi: \" << pi << std::endl;\n",
    "// std::fixed は小数点表記を固定し、std::setprecision(N) で小数点以下N桁を表示\n",
    "std::cout << \"円周率 Pi (小数点以下10桁): \" << std::fixed << std::setprecision(10) << pi << std::endl;\n",
    "std::cout << \"重力加速度: \" << gravity << \" m/s^2\" << std::endl;"
   ]
  },
  {
   "cell_type": "markdown",
   "metadata": {},
   "source": [
    "### 文字型 (`char`)\n",
    "1つの文字を扱う型です。シングルクォーテーション (`'`) で囲みます。\n",
    "例: `'A'`, `'b'`, `'!'`, `'7'`"
   ]
  },
  {
   "cell_type": "code",
   "execution_count": null,
   "metadata": {},
   "outputs": [],
   "source": [
    "#include <iostream>\n",
    "\n",
    "char initial = 'T';\n",
    "char grade = 'A';\n",
    "std::cout << \"私のイニシャル: \" << initial << std::endl;\n",
    "std::cout << \"成績: \" << grade << std::endl;"
   ]
  },
  {
   "cell_type": "markdown",
   "metadata": {},
   "source": [
    "### 真偽値型 (`bool`)\n",
    "真 (`true`) または偽 (`false`) の値を扱う型です。条件分岐などで使われます。"
   ]
  },
  {
   "cell_type": "code",
   "execution_count": null,
   "metadata": {},
   "outputs": [],
   "source": [
    "#include <iostream>\n",
    "\n",
    "bool isSunny = true;\n",
    "bool isWeekend = false;\n",
    "\n",
    "std::cout << \"今日は晴れ？: \" << isSunny << std::endl; // true は 1, false は 0 として出力されることが多い\n",
    "// std::boolalpha を使うと true/false と文字で表示できる\n",
    "std::cout << \"今日は週末？: \" << std::boolalpha << isWeekend << std::endl;"
   ]
  },
  {
   "cell_type": "markdown",
   "metadata": {},
   "source": [
    "### 文字列型 (`std::string`)\n",
    "複数の文字からなる文字列を扱う型です。ダブルクォーテーション (`\"`) で囲みます。\n",
    "`#include <string>` が必要です。"
   ]
  },
  {
   "cell_type": "code",
   "execution_count": null,
   "metadata": {},
   "outputs": [],
   "source": [
    "#include <iostream>\n",
    "#include <string> // std::string を使うために必要\n",
    "\n",
    "std::string name = \"Taro Yamada\";\n",
    "std::string message = \"C++は楽しい！\";\n",
    "\n",
    "std::cout << \"名前: \" << name << std::endl;\n",
    "std::cout << \"メッセージ: \" << message << std::endl;\n",
    "\n",
    "// 文字列の連結もできる\n",
    "std::string greeting = \"こんにちは、\" + name + \"さん！\";\n",
    "std::cout << greeting << std::endl;"
   ]
  },
  {
   "cell_type": "markdown",
   "metadata": {},
   "source": [
    "## 3. 変数 (Variables) 📦 - データに名前を付ける\n",
    "\n",
    "「変数」とは、データを一時的に保存しておくための、名前が付いた箱のようなものです。\n",
    "プログラムの中で値を記憶したり、計算結果を保持したりするのに使います。\n",
    "\n",
    "**変数の宣言**: `型名 変数名;`\n",
    "**変数の宣言と初期化**: `型名 変数名 = 初期値;`\n",
    "\n",
    "変数名には、英数字とアンダースコア (`_`) が使えますが、数字で始めることはできません。また、C++のキーワード（`int`, `if`, `for` など）は使えません。"
   ]
  },
  {
   "cell_type": "code",
   "execution_count": null,
   "metadata": {},
   "outputs": [],
   "source": [
    "#include <iostream>\n",
    "#include <string>\n",
    "\n",
    "// 変数の宣言\n",
    "int apples;\n",
    "double price_per_apple;\n",
    "std::string fruit_name;\n",
    "\n",
    "// 変数への代入\n",
    "apples = 5;\n",
    "price_per_apple = 120.5;\n",
    "fruit_name = \"りんご\";\n",
    "\n",
    "// 変数を使った計算\n",
    "double total_price = apples * price_per_apple;\n",
    "\n",
    "std::cout << fruit_name << \"の数: \" << apples << \"個\" << std::endl;\n",
    "std::cout << fruit_name << \"1個の値段: \" << price_per_apple << \"円\" << std::endl;\n",
    "std::cout << \"合計金額: \" << total_price << \"円\" << std::endl;\n",
    "\n",
    "// 定数 (値を変更できない変数)\n",
    "const double TAX_RATE = 0.1; // const を付けると定数になる\n",
    "double tax = total_price * TAX_RATE;\n",
    "std::cout << \"消費税: \" << tax << \"円\" << std::endl;\n",
    "// TAX_RATE = 0.08; // これはエラーになる（定数は変更できない）"
   ]
  },
  {
   "cell_type": "markdown",
   "metadata": {},
   "source": [
    "## 4. 配列 (Arrays) 📊 - たくさんのデータをまとめて扱う\n",
    "\n",
    "「配列」は、同じ型のデータを複数まとめて格納するための仕組みです。\n",
    "例えば、クラスの生徒全員のテストの点数などを扱うのに便利です。\n",
    "\n",
    "**配列の宣言**: `型名 配列名[要素数];`\n",
    "**配列の宣言と初期化**: `型名 配列名[要素数] = {値1, 値2, ...};` または `型名 配列名[] = {値1, 値2, ...};` (要素数は自動で決まる)\n",
    "\n",
    "配列の各要素には、**インデックス**（添字）を使ってアクセスします。インデックスは **0** から始まります。"
   ]
  },
  {
   "cell_type": "code",
   "execution_count": null,
   "metadata": {},
   "outputs": [],
   "source": [
    "#include <iostream>\n",
    "\n",
    "// 生徒5人の数学の点数を格納する配列\n",
    "int math_scores[5]; // 5つのint型データを格納できる配列\n",
    "\n",
    "// 各要素に値を代入 (インデックスは0から始まる！)\n",
    "math_scores[0] = 85;\n",
    "math_scores[1] = 92;\n",
    "math_scores[2] = 78;\n",
    "math_scores[3] = 95;\n",
    "math_scores[4] = 88;\n",
    "\n",
    "std::cout << \"1番目の生徒の点数: \" << math_scores[0] << std::endl;\n",
    "std::cout << \"3番目の生徒の点数: \" << math_scores[2] << std::endl;\n",
    "\n",
    "// 配列の初期化\n",
    "double temperatures[] = {15.5, 16.2, 14.8, 17.0};\n",
    "std::cout << \"今日の気温: \" << temperatures[0] << \"度\" << std::endl;\n",
    "\n",
    "// 配列の要素数を調べる (C++の伝統的な方法)\n",
    "int num_temps = sizeof(temperatures) / sizeof(temperatures[0]);\n",
    "std::cout << \"記録した気温の数: \" << num_temps << std::endl;"
   ]
  },
  {
   "cell_type": "markdown",
   "metadata": {},
   "source": [
    "### `std::vector` (より現代的な配列)\n",
    "C++の組み込み配列はサイズが固定ですが、`std::vector` を使うと、実行時にサイズを変更できる動的な配列を扱うことができます。\n",
    "`#include <vector>` が必要です。"
   ]
  },
  {
   "cell_type": "code",
   "execution_count": null,
   "metadata": {},
   "outputs": [],
   "source": [
    "#include <iostream>\n",
    "#include <vector> // std::vector を使うために必要\n",
    "#include <string>\n",
    "\n",
    "// std::vector の宣言と初期化\n",
    "std::vector<std::string> fruits = {\"Apple\", \"Banana\", \"Cherry\"};\n",
    "\n",
    "// 要素へのアクセス (配列と同じく [] を使う)\n",
    "std::cout << \"最初の果物: \" << fruits[0] << std::endl;\n",
    "\n",
    "// 要素の追加\n",
    "fruits.push_back(\"Orange\");\n",
    "\n",
    "// 要素数の取得\n",
    "std::cout << \"果物の種類: \" << fruits.size() << \"種類\" << std::endl;\n",
    "\n",
    "// 全ての要素を表示 (後で学ぶ繰り返し処理を使います)\n",
    "std::cout << \"果物リスト: \";\n",
    "for (int i = 0; i < fruits.size(); ++i) {\n",
    "    std::cout << fruits[i] << \" \";\n",
    "}\n",
    "std::cout << std::endl;"
   ]
  },
  {
   "cell_type": "markdown",
   "metadata": {},
   "source": [
    "## 5. 繰り返し (Loops) 🔄 - 同じ処理を何度も行う\n",
    "\n",
    "プログラムでは、同じような処理を何度も繰り返したい場合があります。その際に使うのが「ループ（繰り返し）」です。\n",
    "代表的なループには `for` ループと `while` ループがあります。"
   ]
  },
  {
   "cell_type": "markdown",
   "metadata": {},
   "source": [
    "### `for` ループ\n",
    "決まった回数だけ処理を繰り返す場合によく使われます。\n",
    "\n",
    "**構文:**\n",
    "```cpp\n",
    "for (初期化式; 条件式; 更新式) {\n",
    "    // 繰り返す処理\n",
    "}\n",
    "```\n",
    "- **初期化式**: ループが始まる前に一度だけ実行されます（例: `int i = 0;`）。\n",
    "- **条件式**: ループを続けるかどうかを判断します。この条件が `true` の間、ループは繰り返されます（例: `i < 5;`）。\n",
    "- **更新式**: ループの各反復の最後に実行されます（例: `i++` または `i = i + 1`）。"
   ]
  },
  {
   "cell_type": "code",
   "execution_count": null,
   "metadata": {},
   "outputs": [],
   "source": [
    "#include <iostream>\n",
    "\n",
    "// 0から4までの数を表示\n",
    "std::cout << \"for ループ (0から4): \";\n",
    "for (int i = 0; i < 5; i++) { // i++ は i = i + 1 と同じ意味\n",
    "    std::cout << i << \" \";\n",
    "}\n",
    "std::cout << std::endl;\n",
    "\n",
    "// 配列の要素を順番に表示\n",
    "int numbers[] = {10, 20, 30, 40, 50};\n",
    "int count = sizeof(numbers) / sizeof(numbers[0]);\n",
    "\n",
    "std::cout << \"配列 numbers の要素: \";\n",
    "for (int i = 0; i < count; i++) {\n",
    "    std::cout << numbers[i] << \" \";\n",
    "}\n",
    "std::cout << std::endl;"
   ]
  },
  {
   "cell_type": "markdown",
   "metadata": {},
   "source": [
    "#### 範囲ベース `for` ループ (Range-based for loop) (C++11以降)\n",
    "配列や `std::vector` などのコンテナの全要素に対して処理を行いたい場合に、より簡潔に書ける便利な構文です。"
   ]
  },
  {
   "cell_type": "code",
   "execution_count": null,
   "metadata": {},
   "outputs": [],
   "source": [
    "#include <iostream>\n",
    "#include <vector>\n",
    "#include <string>\n",
    "\n",
    "std::vector<std::string> colors = {\"Red\", \"Green\", \"Blue\"};\n",
    "\n",
    "std::cout << \"色: \";\n",
    "// `auto` は型を自動で推論してくれるキーワード\n",
    "// `const auto& color` とすることで、`color` は `colors` の各要素への読み取り専用の参照となる\n",
    "for (const auto& color : colors) {\n",
    "    std::cout << color << \" \";\n",
    "}\n",
    "std::cout << std::endl;"
   ]
  },
  {
   "cell_type": "markdown",
   "metadata": {},
   "source": [
    "### `while` ループ\n",
    "ある条件が満たされている間、処理を繰り返します。繰り返しの回数が事前に分からない場合に便利です。\n",
    "\n",
    "**構文:**\n",
    "```cpp\n",
    "while (条件式) {\n",
    "    // 繰り返す処理\n",
    "    // (ループ内で条件式が偽になるように値を更新する必要がある)\n",
    "}\n",
    "```"
   ]
  },
  {
   "cell_type": "code",
   "execution_count": null,
   "metadata": {},
   "outputs": [],
   "source": [
    "#include <iostream>\n",
    "\n",
    "int countdown = 5;\n",
    "std::cout << \"while ループ (カウントダウン): \";\n",
    "while (countdown > 0) {\n",
    "    std::cout << countdown << \" \";\n",
    "    countdown--; // countdown を1減らす (countdown = countdown - 1 と同じ)\n",
    "}\n",
    "std::cout << \"Go!\" << std::endl;"
   ]
  },
  {
   "cell_type": "markdown",
   "metadata": {},
   "source": [
    "## 6. 関数 (Functions) ⚙️ - 処理をまとめる\n",
    "\n",
    "「関数」とは、特定の処理をひとまとめにしたものです。\n",
    "同じ処理を何度も書く代わりに、関数を定義しておけば、必要な時にその関数を呼び出すだけで処理を実行できます。\n",
    "プログラムが整理され、読みやすく、保守しやすくなります。\n",
    "\n",
    "**関数の定義:**\n",
    "```cpp\n",
    "戻り値の型 関数名(引数1の型 引数1の名前, 引数2の型 引数2の名前, ...) {\n",
    "    // 関数の処理\n",
    "    return 戻り値; // 戻り値がない場合は return 文は不要 (戻り値の型は void)\n",
    "}\n",
    "```\n",
    "- **戻り値の型**: 関数が処理結果として返す値の型です。何も返さない場合は `void` を指定します。\n",
    "- **関数名**: 関数の名前です。変数名と同じ命名規則に従います。\n",
    "- **引数 (ひきすう)**: 関数に渡す値です。複数指定でき、不要な場合は空にします。\n",
    "- **戻り値**: 関数が呼び出し元に返す値です。`return` 文を使って返します。"
   ]
  },
  {
   "cell_type": "code",
   "execution_count": null,
   "metadata": {},
   "outputs": [],
   "source": [
    "#include <iostream>\n",
    "#include <string>\n",
    "\n",
    "// 引数なし、戻り値なし (void) の関数\n",
    "void greet() {\n",
    "    std::cout << \"こんにちは！\" << std::endl;\n",
    "}\n",
    "\n",
    "// 引数あり、戻り値ありの関数 (2つの整数を足し算する)\n",
    "int add(int a, int b) {\n",
    "    int sum = a + b;\n",
    "    return sum; // 計算結果を返す\n",
    "}\n",
    "\n",
    "// 引数に文字列を取り、メッセージを組み立てて返す関数\n",
    "std::string createMessage(std::string name, int age) {\n",
    "    return name + \"さんは \" + std::to_string(age) + \"歳です。\"; // std::to_stringで数値を文字列に変換\n",
    "}\n",
    "\n",
    "// --- 関数の呼び出し ---\n",
    "greet(); // greet関数を呼び出す\n",
    "\n",
    "int result1 = add(10, 20);\n",
    "std::cout << \"10 + 20 = \" << result1 << std::endl;\n",
    "\n",
    "int num1 = 5;\n",
    "int num2 = 7;\n",
    "int result2 = add(num1, num2);\n",
    "std::cout << num1 << \" + \" << num2 << \" = \" << result2 << std::endl;\n",
    "\n",
    "std::string message = createMessage(\"さくら\", 16);\n",
    "std::cout << message << std::endl;"
   ]
  },
  {
   "cell_type": "markdown",
   "metadata": {},
   "source": [
    "**Cling (Jupyter Notebook) での注意点:**\n",
    "Jupyter Notebookのセルで関数を定義すると、その関数はそのセッションで利用可能になります。\n",
    "後のセルで同じ名前の関数を再定義すると、新しい定義で上書きされることが多いです。\n",
    "複雑なプログラムでは、関数やクラスの定義はヘッダーファイルやソースファイルに分けて管理することが一般的です。"
   ]
  },
  {
   "cell_type": "markdown",
   "metadata": {},
   "source": [
    "## 🎉 よくできました！ 🎉\n",
    "\n",
    "これで、C++プログラミングの基本的な要素である「Hello World」、「型」、「変数」、「配列」、「繰り返し」、「関数」について学びました。\n",
    "\n",
    "**ここまでのポイント**\n",
    "- `#include <iostream>`: コンソール入出力の基本。\n",
    "- `std::cout`: 画面への出力。\n",
    "- 型: `int`, `double`, `char`, `bool`, `std::string` など、データの種類。\n",
    "- 変数: データに名前を付けて保存する箱。\n",
    "- 配列 (`int scores[]`, `std::vector`): 複数のデータをまとめて管理。\n",
    "- 繰り返し (`for`, `while`): 同じ処理を効率よく行う。\n",
    "- 関数: 処理をまとめて再利用しやすくする。\n",
    "\n",
    "これらの知識は、より複雑なプログラムを作るための土台となります。\n",
    "色々なコードを書いて、試して、エラーから学びながら、C++の世界をさらに探求していきましょう！ 🚀\n",
    "\n",
    "**次のステップの例:**\n",
    "- 条件分岐 (`if`, `else if`, `else`, `switch`)\n",
    "- ポインタ (メモリを直接扱うための強力な機能)\n",
    "- クラスとオブジェクト (オブジェクト指向プログラミングの基礎)\n",
    "- ファイル入出力\n",
    "- C++標準ライブラリ (STL) のより詳細な使い方\n",
    "\n",
    "頑張ってください！💪"
   ]
  }
 ],
 "metadata": {
  "kernelspec": {
   "display_name": "C++17",
   "language": "C++17",
   "name": "xcpp17"
  },
  "language_info": {
   "codemirror_mode": "text/x-c++src",
   "file_extension": ".cpp",
   "mimetype": "text/x-c++src",
   "name": "c++",
   "nbconvert_exporter": "script",
   "version": "17"
  }
 },
 "nbformat": 4,
 "nbformat_minor": 5
}