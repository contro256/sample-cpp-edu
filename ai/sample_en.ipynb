{
 "cells": [
  {
   "cell_type": "markdown",
   "metadata": {},
   "source": [
    "# C++ Programming Introduction 🚀\n",
    "\n",
    "Let's learn the basics of C++ interactively using Jupyter Notebook and the Cling C++ interpreter!\n",
    "\n",
    "**How to use this notebook**\n",
    "1. Each cell contains explanations (Markdown) and C++ code.\n",
    "2. Select a code cell and press Shift + Enter to execute the code and see the results.\n",
    "3. Feel free to try different values, modify the code, and explore the world of C++!"
   ]
  },
  {
   "cell_type": "markdown",
   "metadata": {},
   "source": [
    "## 1. Hello, World! 👋 - Welcome to the World of C++\n",
    "\n",
    "The traditional first step in learning programming is to display the message \"Hello, World!\" on the screen.\n",
    "In C++, we use `std::cout` to output text and numbers to the screen.\n",
    "`#include <iostream>` is short for \"input/output stream.\" It's like a \"magic spell\" that allows us to use basic input/output operations, such as printing to the console and reading from the keyboard."
   ]
  },
  {
   "cell_type": "code",
   "execution_count": null,
   "metadata": {},
   "outputs": [],
   "source": [
    "#include <iostream>\n",
    "\n",
    "// Use std::cout to display a message.\n",
    "// << is called the \"stream insertion operator.\" Imagine it sending what's on its right to the stream on its left.\n",
    "// std::endl inserts a newline character and flushes the output buffer (forces output).\n",
    "std::cout << \"Hello, C++ World!\" << std::endl;"
   ]
  },
  {
   "cell_type": "markdown",
   "metadata": {},
   "source": [
    "What is `std::`? 🤔\n",
    "\n",
    "`std` is short for \"standard\" and indicates that the feature is part of the C++ Standard Library.\n",
    "`cout` and `endl` belong to this `std` namespace (a way to group related features).\n",
    "If writing `std::` every time feels a bit tedious, you can use `using namespace std;` to omit it. However, in larger programs, it's recommended to explicitly write `std::` to avoid name collisions.\n",
    "In this notebook, we will use `std::` for clarity."
   ]
  },
  {
   "cell_type": "code",
   "execution_count": null,
   "metadata": {},
   "outputs": [],
   "source": [
    "#include <iostream>\n",
    "using namespace std;\n",
    "\n",
    "cout << \"Using 'using namespace std;' allows you to omit 'std::'!\" << endl;"
   ]
  },
  {
   "cell_type": "markdown",
   "metadata": {},
   "source": [
    "## 2. Data Types 🧱 - Types of Boxes for Data\n",
    "\n",
    "In programming, we handle various kinds of data (numbers, characters, text, etc.).\n",
    "A \"type\" indicates what kind of data it is. C++ is a statically-typed language, so you must declare the type of a variable before using it.\n",
    "Let's look at the main basic types."
   ]
  },
  {
   "cell_type": "markdown",
   "metadata": {},
   "source": [
    "### Integer Type (`int`)\n",
    "Used for whole numbers. Examples: `-1`, `0`, `100`"
   ]
  },
  {
   "cell_type": "code",
   "execution_count": null,
   "metadata": {},
   "outputs": [],
   "source": [
    "#include <iostream>\n",
    "\n",
    "int age = 17;\n",
    "int score = -200;\n",
    "std::cout << \"My age is: \" << age << std::endl;\n",
    "std::cout << \"Test score: \" << score << \" points\" << std::endl;"
   ]
  },
  {
   "cell_type": "markdown",
   "metadata": {},
   "source": [
    "### Floating-Point Types (`double`, `float`)\n",
    "Used for numbers with decimal points. `double` has higher precision (can handle more digits) than `float` but uses more memory. Generally, `double` is used more often.\n",
    "Examples: `3.14`, `-0.001`, `2.71828`"
   ]
  },
  {
   "cell_type": "code",
   "execution_count": null,
   "metadata": {},
   "outputs": [],
   "source": [
    "#include <iostream>\n",
    "#include <iomanip> // Needed for std::fixed and std::setprecision\n",
    "\n",
    "double pi = 3.1415926535;\n",
    "float gravity = 9.8f; // Literals for float often have an 'f' suffix\n",
    "\n",
    "std::cout << \"Pi: \" << pi << std::endl;\n",
    "// std::fixed fixes the decimal notation, std::setprecision(N) displays N digits after the decimal point\n",
    "std::cout << \"Pi (10 decimal places): \" << std::fixed << std::setprecision(10) << pi << std::endl;\n",
    "std::cout << \"Gravitational acceleration: \" << gravity << \" m/s^2\" << std::endl;"
   ]
  },
  {
   "cell_type": "markdown",
   "metadata": {},
   "source": [
    "### Character Type (`char`)\n",
    "Used for a single character. Enclosed in single quotes (`'`).\n",
    "Examples: `'A'`, `'b'`, `'!'`, `'7'`"
   ]
  },
  {
   "cell_type": "code",
   "execution_count": null,
   "metadata": {},
   "outputs": [],
   "source": [
    "#include <iostream>\n",
    "\n",
    "char initial = 'J';\n",
    "char grade = 'A';\n",
    "std::cout << \"My initial: \" << initial << std::endl;\n",
    "std::cout << \"Grade: \" << grade << std::endl;"
   ]
  },
  {
   "cell_type": "markdown",
   "metadata": {},
   "source": [
    "### Boolean Type (`bool`)\n",
    "Used for true (`true`) or false (`false`) values. Often used in conditional statements."
   ]
  },
  {
   "cell_type": "code",
   "execution_count": null,
   "metadata": {},
   "outputs": [],
   "source": [
    "#include <iostream>\n",
    "\n",
    "bool isSunny = true;\n",
    "bool isWeekend = false;\n",
    "\n",
    "std::cout << \"Is it sunny today?: \" << isSunny << std::endl; // true is often output as 1, false as 0\n",
    "// Using std::boolalpha allows displaying true/false as text\n",
    "std::cout << \"Is it the weekend?: \" << std::boolalpha << isWeekend << std::endl;"
   ]
  },
  {
   "cell_type": "markdown",
   "metadata": {},
   "source": [
    "### String Type (`std::string`)\n",
    "Used for sequences of characters (text). Enclosed in double quotes (`\"`).\n",
    "Requires `#include <string>`."
   ]
  },
  {
   "cell_type": "code",
   "execution_count": null,
   "metadata": {},
   "outputs": [],
   "source": [
    "#include <iostream>\n",
    "#include <string> // Needed to use std::string\n",
    "\n",
    "std::string name = \"Alice Wonderland\";\n",
    "std::string message = \"C++ is fun!\";\n",
    "\n",
    "std::cout << \"Name: \" << name << std::endl;\n",
    "std::cout << \"Message: \" << message << std::endl;\n",
    "\n",
    "// String concatenation is also possible\n",
    "std::string greeting = \"Hello, \" + name + \"!\";\n",
    "std::cout << greeting << std::endl;"
   ]
  },
  {
   "cell_type": "markdown",
   "metadata": {},
   "source": [
    "## 3. Variables 📦 - Naming Your Data\n",
    "\n",
    "A \"variable\" is like a named box for temporarily storing data.\n",
    "It's used to remember values or hold calculation results within a program.\n",
    "\n",
    "**Variable Declaration**: `type_name variable_name;`\n",
    "**Variable Declaration and Initialization**: `type_name variable_name = initial_value;`\n",
    "\n",
    "Variable names can use alphanumeric characters and underscores (`_`), but cannot start with a digit. Also, C++ keywords (like `int`, `if`, `for`) cannot be used as variable names."
   ]
  },
  {
   "cell_type": "code",
   "execution_count": null,
   "metadata": {},
   "outputs": [],
   "source": [
    "#include <iostream>\n",
    "#include <string>\n",
    "\n",
    "// Variable declaration\n",
    "int apples;\n",
    "double price_per_apple;\n",
    "std::string fruit_name;\n",
    "\n",
    "// Assigning values to variables\n",
    "apples = 5;\n",
    "price_per_apple = 1.25; // Assuming price in USD\n",
    "fruit_name = \"Apple\";\n",
    "\n",
    "// Calculation using variables\n",
    "double total_price = apples * price_per_apple;\n",
    "\n",
    "std::cout << \"Number of \" << fruit_name << \"s: \" << apples << std::endl;\n",
    "std::cout << \"Price per \" << fruit_name << \": $\" << price_per_apple << std::endl;\n",
    "std::cout << \"Total price: $\" << total_price << std::endl;\n",
    "\n",
    "// Constants (variables whose values cannot be changed)\n",
    "const double TAX_RATE = 0.08; // Adding 'const' makes it a constant\n",
    "double tax = total_price * TAX_RATE;\n",
    "std::cout << \"Tax: $\" << tax << std::endl;\n",
    "// TAX_RATE = 0.07; // This would cause an error (constants cannot be changed)"
   ]
  },
  {
   "cell_type": "markdown",
   "metadata": {},
   "source": [
    "## 4. Arrays 📊 - Handling Multiple Data Items Together\n",
    "\n",
    "An \"array\" is a structure for storing multiple data items of the same type together.\n",
    "For example, it's useful for handling the test scores of all students in a class.\n",
    "\n",
    "**Array Declaration**: `type_name array_name[number_of_elements];`\n",
    "**Array Declaration and Initialization**: `type_name array_name[number_of_elements] = {value1, value2, ...};` or `type_name array_name[] = {value1, value2, ...};` (number of elements is determined automatically)\n",
    "\n",
    "Each element in an array is accessed using an **index**. Indices start from **0**."
   ]
  },
  {
   "cell_type": "code",
   "execution_count": null,
   "metadata": {},
   "outputs": [],
   "source": [
    "#include <iostream>\n",
    "\n",
    "// An array to store math scores of 5 students\n",
    "int math_scores[5]; // An array that can store 5 int type data\n",
    "\n",
    "// Assign values to each element (indices start from 0!)\n",
    "math_scores[0] = 85;\n",
    "math_scores[1] = 92;\n",
    "math_scores[2] = 78;\n",
    "math_scores[3] = 95;\n",
    "math_scores[4] = 88;\n",
    "\n",
    "std::cout << \"Score of the 1st student: \" << math_scores[0] << std::endl;\n",
    "std::cout << \"Score of the 3rd student: \" << math_scores[2] << std::endl;\n",
    "\n",
    "// Array initialization\n",
    "double temperatures[] = {15.5, 16.2, 14.8, 17.0}; // Celsius\n",
    "std::cout << \"Today's temperature: \" << temperatures[0] << \" C\" << std::endl;\n",
    "\n",
    "// Finding the number of elements in an array (traditional C++ way)\n",
    "int num_temps = sizeof(temperatures) / sizeof(temperatures[0]);\n",
    "std::cout << \"Number of recorded temperatures: \" << num_temps << std::endl;"
   ]
  },
  {
   "cell_type": "markdown",
   "metadata": {},
   "source": [
    "### `std::vector` (A More Modern Array)\n",
    "\n",
    "Built-in C++ arrays have a fixed size, but `std::vector` allows you to handle dynamic arrays whose size can be changed at runtime.\n",
    "Requires `#include <vector>`."
   ]
  },
  {
   "cell_type": "code",
   "execution_count": null,
   "metadata": {},
   "outputs": [],
   "source": [
    "#include <iostream>\n",
    "#include <vector> // Needed to use std::vector\n",
    "#include <string>\n",
    "\n",
    "// Declaration and initialization of std::vector\n",
    "std::vector<std::string> fruits = {\"Apple\", \"Banana\", \"Cherry\"};\n",
    "\n",
    "// Accessing elements (uses [] just like arrays)\n",
    "std::cout << \"First fruit: \" << fruits[0] << std::endl;\n",
    "\n",
    "// Adding an element\n",
    "fruits.push_back(\"Orange\");\n",
    "\n",
    "// Getting the number of elements\n",
    "std::cout << \"Number of fruit types: \" << fruits.size() << std::endl;\n",
    "\n",
    "// Display all elements (using a loop, which we'll learn about next)\n",
    "std::cout << \"Fruit list: \";\n",
    "for (int i = 0; i < fruits.size(); ++i) {\n",
    "    std::cout << fruits[i] << \" \";\n",
    "}\n",
    "std::cout << std::endl;"
   ]
  },
  {
   "cell_type": "markdown",
   "metadata": {},
   "source": [
    "## 5. Loops 🔄 - Performing the Same Process Multiple Times\n",
    "\n",
    "In programming, you often want to repeat similar operations multiple times. This is where \"loops\" come in.\n",
    "The main types of loops are `for` loops and `while` loops."
   ]
  },
  {
   "cell_type": "markdown",
   "metadata": {},
   "source": [
    "### `for` Loop\n",
    "\n",
    "Often used when you want to repeat a process a fixed number of times.\n",
    "\n",
    "**Syntax:**\n",
    "```cpp\n",
    "for (initialization_expression; condition_expression; update_expression) {\n",
    "    // code to repeat\n",
    "}\n",
    "```\n",
    "- **initialization_expression**: Executed once before the loop starts (e.g., `int i = 0;`).\n",
    "- **condition_expression**: Determines whether to continue the loop. The loop repeats as long as this condition is `true` (e.g., `i < 5;`).\n",
    "- **update_expression**: Executed at the end of each iteration of the loop (e.g., `i++` or `i = i + 1`)."
   ]
  },
  {
   "cell_type": "code",
   "execution_count": null,
   "metadata": {},
   "outputs": [],
   "source": [
    "#include <iostream>\n",
    "\n",
    "// Display numbers from 0 to 4\n",
    "std::cout << \"for loop (0 to 4): \";\n",
    "for (int i = 0; i < 5; i++) { // i++ means the same as i = i + 1\n",
    "    std::cout << i << \" \";\n",
    "}\n",
    "std::cout << std::endl;\n",
    "\n",
    "// Display elements of an array in order\n",
    "int numbers[] = {10, 20, 30, 40, 50};\n",
    "int count = sizeof(numbers) / sizeof(numbers[0]);\n",
    "\n",
    "std::cout << \"Elements of array 'numbers': \";\n",
    "for (int i = 0; i < count; i++) {\n",
    "    std::cout << numbers[i] << \" \";\n",
    "}\n",
    "std::cout << std::endl;"
   ]
  },
  {
   "cell_type": "markdown",
   "metadata": {},
   "source": [
    "#### Range-based `for` Loop (C++11 and later)\n",
    "\n",
    "A convenient syntax that allows you to write more concisely when you want to process all elements of a container like an array or `std::vector`."
   ]
  },
  {
   "cell_type": "code",
   "execution_count": null,
   "metadata": {},
   "outputs": [],
   "source": [
    "#include <iostream>\n",
    "#include <vector>\n",
    "#include <string>\n",
    "\n",
    "std::vector<std::string> colors = {\"Red\", \"Green\", \"Blue\"};\n",
    "\n",
    "std::cout << \"Colors: \";\n",
    "// `auto` is a keyword that automatically deduces the type.\n",
    "// `const auto& color` makes `color` a read-only reference to each element in `colors`.\n",
    "for (const auto& color : colors) {\n",
    "    std::cout << color << \" \";\n",
    "}\n",
    "std::cout << std::endl;"
   ]
  },
  {
   "cell_type": "markdown",
   "metadata": {},
   "source": [
    "### `while` Loop\n",
    "\n",
    "Repeats a process as long as a certain condition is met. Useful when the number of repetitions is not known in advance.\n",
    "\n",
    "**Syntax:**\n",
    "```cpp\n",
    "while (condition_expression) {\n",
    "    // code to repeat\n",
    "    // (You usually need to update values within the loop so the condition eventually becomes false)\n",
    "}\n",
    "```"
   ]
  },
  {
   "cell_type": "code",
   "execution_count": null,
   "metadata": {},
   "outputs": [],
   "source": [
    "#include <iostream>\n",
    "\n",
    "int countdown = 5;\n",
    "std::cout << \"while loop (countdown): \";\n",
    "while (countdown > 0) {\n",
    "    std::cout << countdown << \" \";\n",
    "    countdown--; // Decrement countdown by 1 (same as countdown = countdown - 1)\n",
    "}\n",
    "std::cout << \" Go!\" << std::endl;"
   ]
  },
  {
   "cell_type": "markdown",
   "metadata": {},
   "source": [
    "## 6. Functions ⚙️ - Grouping Your Code\n",
    "\n",
    "A \"function\" is a block of code that performs a specific task.\n",
    "Instead of writing the same code multiple times, you can define a function and call it whenever you need to perform that task.\n",
    "This makes programs more organized, easier to read, and easier to maintain.\n",
    "\n",
    "**Function Definition:**\n",
    "```cpp\n",
    "return_type function_name(type1 parameter1_name, type2 parameter2_name, ...) {\n",
    "    // function body (code to execute)\n",
    "    return value; // The return statement is not needed if the return_type is void\n",
    "}\n",
    "```\n",
    "- **return_type**: The type of the value that the function returns as a result of its processing. If it doesn't return anything, specify `void`.\n",
    "- **function_name**: The name of the function. Follows the same naming rules as variables.\n",
    "- **parameters (arguments)**: Values passed to the function. You can specify multiple, or none if not needed.\n",
    "- **return value**: The value that the function returns to its caller. Use the `return` statement."
   ]
  },
  {
   "cell_type": "code",
   "execution_count": null,
   "metadata": {},
   "outputs": [],
   "source": [
    "#include <iostream>\n",
    "#include <string>\n",
    "#include <sstream> // For std::to_string, good practice though <string> might be enough in modern C++ for cling\n",
    "\n",
    "// A function with no parameters and no return value (void)\n",
    "void greet() {\n",
    "    std::cout << \"Hello there!\" << std::endl;\n",
    "}\n",
    "\n",
    "// A function with parameters and a return value (adds two integers)\n",
    "int add(int a, int b) {\n",
    "    int sum = a + b;\n",
    "    return sum; // Returns the calculation result\n",
    "}\n",
    "\n",
    "// A function that takes a string and an int as parameters, and returns a formatted string\n",
    "std::string createMessage(std::string name, int age) {\n",
    "    // std::to_string converts a number to a string (from <string> in C++11+)\n",
    "    return name + \" is \" + std::to_string(age) + \" years old.\";\n",
    "}\n",
    "\n",
    "// --- Calling functions ---\n",
    "greet(); // Call the greet function\n",
    "\n",
    "int result1 = add(10, 20);\n",
    "std::cout << \"10 + 20 = \" << result1 << std::endl;\n",
    "\n",
    "int num1 = 5;\n",
    "int num2 = 7;\n",
    "int result2 = add(num1, num2);\n",
    "std::cout << num1 << \" + \" << num2 << \" = \" << result2 << std::endl;\n",
    "\n",
    "std::string message = createMessage(\"Bob\", 25);\n",
    "std::cout << message << std::endl;"
   ]
  },
  {
   "cell_type": "markdown",
   "metadata": {},
   "source": [
    "**Note on Cling (Jupyter Notebook):**\n",
    "\n",
    "When you define a function in a Jupyter Notebook cell, it becomes available for that session.\n",
    "If you redefine a function with the same name in a later cell, the new definition will often overwrite the old one.\n",
    "In complex programs, function and class definitions are typically managed in separate header and source files."
   ]
  },
  {
   "cell_type": "markdown",
   "metadata": {},
   "source": [
    "## 🎉 Well Done! 🎉\n",
    "\n",
    "You've now learned the basic elements of C++ programming: \"Hello World,\" \"Data Types,\" \"Variables,\" \"Arrays,\" \"Loops,\" and \"Functions.\"\n",
    "\n",
    "**Key Takeaways So Far**\n",
    "- `#include <iostream>`: Basics of console input/output.\n",
    "- `std::cout`: Output to the screen.\n",
    "- Data Types: `int`, `double`, `char`, `bool`, `std::string`, etc. – kinds of data.\n",
    "- Variables: Named boxes for storing data.\n",
    "- Arrays (`int scores[]`, `std::vector`): Managing multiple data items together.\n",
    "- Loops (`for`, `while`): Performing the same operations efficiently.\n",
    "- Functions: Grouping code to make it reusable.\n",
    "\n",
    "This knowledge forms the foundation for building more complex programs.\n",
    "Keep exploring the world of C++ by writing various pieces of code, experimenting, and learning from errors! 🚀\n",
    "\n",
    "**Examples of Next Steps:**\n",
    "- Conditional statements (`if`, `else if`, `else`, `switch`)\n",
    "- Pointers (a powerful feature for direct memory manipulation)\n",
    "- Classes and Objects (fundamentals of Object-Oriented Programming)\n",
    "- File Input/Output\n",
    "- More detailed use of the C++ Standard Library (STL)\n",
    "\n",
    "Keep up the great work! 💪"
   ]
  }
 ],
 "metadata": {
  "kernelspec": {
   "display_name": "C++17",
   "language": "C++17",
   "name": "xcpp17"
  },
  "language_info": {
   "codemirror_mode": "text/x-c++src",
   "file_extension": ".cpp",
   "mimetype": "text/x-c++src",
   "name": "c++",
   "nbconvert_exporter": "script",
   "version": "17"
  }
 },
 "nbformat": 4,
 "nbformat_minor": 5
}