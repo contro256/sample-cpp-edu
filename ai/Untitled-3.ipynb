{
 "cells": [
  {
   "cell_type": "markdown",
   "metadata": {},
   "source": [
    "# C++プログラミング 練習問題 ✏️\n",
    "\n",
    "これまでに学んだC++の知識を使って、練習問題に挑戦してみましょう！\n",
    "各問題には、折りたたまれた解答と解説が付いています。まずは自分で考えてみて、それから解答を確認するようにしてください。\n",
    "\n",
    "**学習した主な内容の復習:**\n",
    "- `std::cout` を使った出力\n",
    "- 型 (`int`, `double`, `char`, `bool`, `std::string`)\n",
    "- 変数の宣言と代入\n",
    "- 配列 (`int scores[]` や `std::vector`)\n",
    "- 繰り返し (`for` ループ, `while` ループ)\n",
    "- 関数 (定義と呼び出し)\n",
    "\n",
    "準備ができたら、最初の問題から始めてみましょう！"
   ]
  },
  {
   "cell_type": "markdown",
   "metadata": {},
   "source": [
    "## 問題1: 自己紹介プログラム 🧑‍💻\n",
    "\n",
    "あなたの名前（文字列）と年齢（整数）をそれぞれ変数に格納し、それらの変数を使って自己紹介文（例: 「私の名前は山田太郎です。年齢は17歳です。」）を画面に出力するC++プログラムを作成してください。"
   ]
  },
  {
   "cell_type": "markdown",
   "metadata": {},
   "source": [
    "<details>\n",
    "<summary>解答と解説を見る</summary>\n",
    "\n",
    "**解説:**\n",
    "1. 名前を格納するための `std::string` 型の変数と、年齢を格納するための `int` 型の変数を宣言し、それぞれの値を代入します。\n",
    "2. `std::cout` を使って、これらの変数を含む自己紹介文を出力します。\n",
    "\n",
    "**コード例:**\n",
    "</details>"
   ]
  },
  {
   "cell_type": "code",
   "execution_count": null,
   "metadata": {
    "collapsed": true
   },
   "outputs": [],
   "source": [
    "#include <iostream>\n",
    "#include <string>\n",
    "\n",
    "// ここにコードを書いてください\n",
    "std::string myName = \"AIアシスタント\"; // あなたの名前に置き換えてください\n",
    "int myAge = 1;          // あなたの年齢に置き換えてください\n",
    "\n",
    "std::cout << \"私の名前は\" << myName << \"です。年齢は\" << myAge << \"歳です。\" << std::endl;"
   ]
  },
  {
   "cell_type": "markdown",
   "metadata": {},
   "source": [
    "## 問題2: 円の計算 📏\n",
    "\n",
    "半径 `r` の円の面積と円周の長さを計算するプログラムを作成してください。\n",
    "- 半径 `r` は `double` 型の変数として定義し、好きな値を代入してください（例: `5.0`）。\n",
    "- 円周率は `3.14159` を定数として使用してください。\n",
    "- 計算結果（面積と円周の長さ）を画面に出力してください。\n",
    "  - 面積の公式: `半径 * 半径 * 円周率`\n",
    "  - 円周の公式: `2 * 半径 * 円周率`"
   ]
  },
  {
   "cell_type": "markdown",
   "metadata": {},
   "source": [
    "<details>\n",
    "<summary>解答と解説を見る</summary>\n",
    "\n",
    "**解説:**\n",
    "1. 円周率を `const double` 型の定数として定義します。\n",
    "2. 半径 `r` を `double` 型の変数として定義し、値を代入します。\n",
    "3. 公式に従って面積と円周を計算し、それぞれ別の `double` 型の変数に格納します。\n",
    "4. `std::cout` を使って結果を出力します。\n",
    "\n",
    "**コード例:**\n",
    "</details>"
   ]
  },
  {
   "cell_type": "code",
   "execution_count": null,
   "metadata": {
    "collapsed": true
   },
   "outputs": [],
   "source": [
    "#include <iostream>\n",
    "#include <iomanip> // std::fixed, std::setprecision のために必要\n",
    "\n",
    "// 円周率を定数として定義\n",
    "const double PI = 3.14159;\n",
    "\n",
    "// 半径を定義 (好きな値に変更可能)\n",
    "double radius = 5.0;\n",
    "\n",
    "// 面積を計算\n",
    "double area = radius * radius * PI;\n",
    "\n",
    "// 円周の長さを計算\n",
    "double circumference = 2 * radius * PI;\n",
    "\n",
    "std::cout << std::fixed << std::setprecision(2); // 小数点以下2桁で表示\n",
    "std::cout << \"半径が \" << radius << \" の円:\" << std::endl;\n",
    "std::cout << \"面積: \" << area << std::endl;\n",
    "std::cout << \"円周の長さ: \" << circumference << std::endl;"
   ]
  },
  {
   "cell_type": "markdown",
   "metadata": {},
   "source": [
    "## 問題3: 平均点の計算 💯\n",
    "\n",
    "5人の生徒のテストの点数（整数）を配列に格納し、それらの点数の平均点を計算して出力するプログラムを作成してください。\n",
    "点数の例: `85, 90, 78, 92, 88`"
   ]
  },
  {
   "cell_type": "markdown",
   "metadata": {},
   "source": [
    "<details>\n",
    "<summary>解答と解説を見る</summary>\n",
    "\n",
    "**解説:**\n",
    "1. `int` 型の配列を宣言し、5人の生徒の点数で初期化します。\n",
    "2. `for` ループを使って配列の全要素の合計を計算します。\n",
    "3. 合計点数を生徒の数（この場合は5）で割って平均点を計算します。平均点は小数になる可能性があるので `double` 型で計算・格納すると良いでしょう。\n",
    "4. `std::cout` を使って平均点を出力します。\n",
    "\n",
    "**コード例:**\n",
    "</details>"
   ]
  },
  {
   "cell_type": "code",
   "execution_count": null,
   "metadata": {
    "collapsed": true
   },
   "outputs": [],
   "source": [
    "#include <iostream>\n",
    "#include <vector>   // std::vector を使う場合 (どちらでも可)\n",
    "#include <numeric>  // std::accumulate を使う場合 (オプション)\n",
    "#include <iomanip>  // std::fixed, std::setprecision のために必要\n",
    "\n",
    "// C スタイルの配列を使う方法\n",
    "int scores_array[] = {85, 90, 78, 92, 88};\n",
    "int num_students_array = sizeof(scores_array) / sizeof(scores_array[0]);\n",
    "double sum_array = 0.0;\n",
    "\n",
    "for (int i = 0; i < num_students_array; ++i) {\n",
    "    sum_array += scores_array[i];\n",
    "}\n",
    "double average_array = sum_array / num_students_array;\n",
    "std::cout << \"平均点 (Cスタイル配列): \" << std::fixed << std::setprecision(2) << average_array << std::endl;\n",
    "\n",
    "// std::vector を使う方法 (より現代的)\n",
    "std::vector<int> scores_vector = {85, 90, 78, 92, 88};\n",
    "double sum_vector = 0.0;\n",
    "// 通常の for ループ\n",
    "// for (int i = 0; i < scores_vector.size(); ++i) {\n",
    "//     sum_vector += scores_vector[i];\n",
    "// }\n",
    "\n",
    "// 範囲ベース for ループ (より簡潔)\n",
    "for (int score : scores_vector) {\n",
    "    sum_vector += score;\n",
    "}\n",
    "\n",
    "// もしくは std::accumulate を使う (要 #include <numeric>)\n",
    "// double sum_vector_accumulate = std::accumulate(scores_vector.begin(), scores_vector.end(), 0.0);\n",
    "\n",
    "if (!scores_vector.empty()) { // 空の vector で割らないように注意\n",
    "    double average_vector = sum_vector / scores_vector.size();\n",
    "    std::cout << \"平均点 (std::vector): \" << std::fixed << std::setprecision(2) << average_vector << std::endl;\n",
    "} else {\n",
    "    std::cout << \"点数データがありません。\" << std::endl;\n",
    "}"
   ]
  },
  {
   "cell_type": "markdown",
   "metadata": {},
   "source": [
    "## 問題4: 好きな果物リスト 🍓🍌🍇\n",
    "\n",
    "`std::vector<std::string>` を使って、あなたの好きな果物の名前を3つ格納してください。\n",
    "その後、以下の処理を行うプログラムを作成してください。\n",
    "1. ベクターの最初の果物と最後の果物を表示する。\n",
    "2. ベクターに新しい好きな果物を1つ追加する。\n",
    "3. ベクターの現在の全要素を（繰り返し処理を使って）表示する。"
   ]
  },
  {
   "cell_type": "markdown",
   "metadata": {},
   "source": [
    "<details>\n",
    "<summary>解答と解説を見る</summary>\n",
    "\n",
    "**解説:**\n",
    "1. `std::vector<std::string>` を宣言し、3つの好きな果物の名前で初期化します。\n",
    "2. 最初の要素はインデックス `0` で、最後の要素は `vector名.back()` またはインデックス `vector名.size() - 1` でアクセスできます（ベクターが空でないことを確認するとより安全です）。\n",
    "3. `vector名.push_back(\"新しい果物\")` を使って新しい果物を追加します。\n",
    "4. 範囲ベース `for` ループなどを使って、ベクターの全要素を表示します。\n",
    "\n",
    "**コード例:**\n",
    "</details>"
   ]
  },
  {
   "cell_type": "code",
   "execution_count": null,
   "metadata": {
    "collapsed": true
   },
   "outputs": [],
   "source": [
    "#include <iostream>\n",
    "#include <vector>\n",
    "#include <string>\n",
    "\n",
    "// 好きな果物を3つ格納した std::vector を作成\n",
    "std::vector<std::string> favorite_fruits = {\"いちご\", \"バナナ\", \"ぶどう\"};\n",
    "\n",
    "// 1. 最初の果物と最後の果物を表示\n",
    "if (!favorite_fruits.empty()) {\n",
    "    std::cout << \"最初の果物: \" << favorite_fruits[0] << std::endl;         // または favorite_fruits.front()\n",
    "    std::cout << \"最後の果物: \" << favorite_fruits.back() << std::endl;       // または favorite_fruits[favorite_fruits.size() - 1]\n",
    "} else {\n",
    "    std::cout << \"果物リストが空です。\" << std::endl;\n",
    "}\n",
    "\n",
    "// 2. 新しい好きな果物を1つ追加\n",
    "favorite_fruits.push_back(\"みかん\");\n",
    "std::cout << \"\\n「みかん」を追加しました。\" << std::endl;\n",
    "\n",
    "// 3. ベクターの現在の全要素を表示\n",
    "std::cout << \"現在の好きな果物リスト:\" << std::endl;\n",
    "for (const std::string& fruit : favorite_fruits) {\n",
    "    std::cout << \"- \" << fruit << std::endl;\n",
    "}"
   ]
  },
  {
   "cell_type": "markdown",
   "metadata": {},
   "source": [
    "## 問題5: 1からNまでの合計 ➕\n",
    "\n",
    "`for` ループを使って、1から10までの全ての整数の合計を計算し、結果を出力するプログラムを作成してください。"
   ]
  },
  {
   "cell_type": "markdown",
   "metadata": {},
   "source": [
    "<details>\n",
    "<summary>解答と解説を見る</summary>\n",
    "\n",
    "**解説:**\n",
    "1. 合計を格納するための `int` 型の変数（例: `sum`）を0で初期化します。\n",
    "2. `for` ループを使って、カウンター変数 `i` を1から10まで変化させます。\n",
    "3. ループの各反復で、`sum` に `i` の値を加算します (`sum = sum + i;` または `sum += i;`)。\n",
    "4. ループが終了したら、`sum` の値を出力します。\n",
    "\n",
    "**コード例:**\n",
    "</details>"
   ]
  },
  {
   "cell_type": "code",
   "execution_count": null,
   "metadata": {
    "collapsed": true
   },
   "outputs": [],
   "source": [
    "#include <iostream>\n",
    "\n",
    "int sum = 0;\n",
    "int n = 10;\n",
    "\n",
    "for (int i = 1; i <= n; ++i) {\n",
    "    sum += i;\n",
    "}\n",
    "\n",
    "std::cout << \"1から\" << n << \"までの整数の合計は: \" << sum << \"です。\" << std::endl;"
   ]
  },
  {
   "cell_type": "markdown",
   "metadata": {},
   "source": [
    "## 問題6: 九九の表 ✖️\n",
    "\n",
    "二重の `for` ループ（`for` ループの中に別の `for` ループがある形）を使って、九九の表（1の段から9の段まで）を画面に出力するプログラムを作成してください。\n",
    "出力形式の例:\n",
    "```\n",
    "1 x 1 = 1\n",
    "1 x 2 = 2\n",
    "... (途中省略)\n",
    "9 x 9 = 81\n",
    "```"
   ]
  },
  {
   "cell_type": "markdown",
   "metadata": {},
   "source": [
    "<details>\n",
    "<summary>解答と解説を見る</summary>\n",
    "\n",
    "**解説:**\n",
    "1. 外側の `for` ループで、九九の「段」（1から9まで）を制御する変数（例: `i`）をループさせます。\n",
    "2. 内側の `for` ループで、各段で掛ける数（1から9まで）を制御する変数（例: `j`）をループさせます。\n",
    "3. 内側のループの中で、`i * j` の計算結果と共に、`i << \" x \" << j << \" = \" << (i * j)` のようにして出力します。\n",
    "4. 各段が終わるごと（外側のループの1回の反復が終わるごと）に改行を入れると見やすくなります（必須ではありません）。\n",
    "\n",
    "**コード例:**\n",
    "</details>"
   ]
  },
  {
   "cell_type": "code",
   "execution_count": null,
   "metadata": {
    "collapsed": true
   },
   "outputs": [],
   "source": [
    "#include <iostream>\n",
    "#include <iomanip> // std::setw を使って桁を揃えるために使用 (オプション)\n",
    "\n",
    "for (int i = 1; i <= 9; ++i) { // i が段の数\n",
    "    std::cout << \"--- \" << i << \"の段 ---\" << std::endl;\n",
    "    for (int j = 1; j <= 9; ++j) { // j が掛ける数\n",
    "        // std::setw(2) は出力幅を2桁に設定 (右詰め)\n",
    "        std::cout << i << \" x \" << j << \" = \" << std::setw(2) << (i * j) << std::endl;\n",
    "    }\n",
    "    std::cout << std::endl; // 各段の後に空行を入れる\n",
    "}"
   ]
  },
  {
   "cell_type": "markdown",
   "metadata": {},
   "source": [
    "## 問題7: 最大値を返す関数 💪\n",
    "\n",
    "2つの `int` 型の整数を引数として受け取り、それらのうち大きい方の値を返す関数 `findMax` を作成してください。\n",
    "作成した関数を使って、いくつかの異なる整数のペアで呼び出し、結果が正しいことを確認してください。"
   ]
  },
  {
   "cell_type": "markdown",
   "metadata": {},
   "source": [
    "<details>\n",
    "<summary>解答と解説を見る</summary>\n",
    "\n",
    "**解説:**\n",
    "1. 関数のシグネチャ（定義の最初の行）は `int findMax(int num1, int num2)` のようになります。\n",
    "2. 関数の中で `if` 文を使って `num1` と `num2` を比較します。\n",
    "3. `num1` の方が大きければ `num1` を `return` し、そうでなければ `num2` を `return` します（`num1 == num2` の場合はどちらを返しても同じです）。\n",
    "4. `main` 関数（またはClingのセル）で、この `findMax` 関数を具体的な値で呼び出し、結果を出力して確認します。\n",
    "\n",
    "**コード例:**\n",
    "</details>"
   ]
  },
  {
   "cell_type": "code",
   "execution_count": null,
   "metadata": {
    "collapsed": true
   },
   "outputs": [],
   "source": [
    "#include <iostream>\n",
    "\n",
    "// 2つの整数の最大値を返す関数\n",
    "int findMax(int num1, int num2) {\n",
    "    if (num1 > num2) {\n",
    "        return num1;\n",
    "    } else {\n",
    "        return num2;\n",
    "    }\n",
    "    // より簡潔な書き方 (三項演算子):\n",
    "    // return (num1 > num2) ? num1 : num2;\n",
    "}\n",
    "\n",
    "// main 関数 (Cling のセルでは直接コードを実行できるので必須ではない)\n",
    "// int main() { // Clingではmainなしで直接実行可能\n",
    "    std::cout << \"findMax(10, 20) の結果: \" << findMax(10, 20) << std::endl;    // 期待値: 20\n",
    "    std::cout << \"findMax(7, 3) の結果: \" << findMax(7, 3) << std::endl;      // 期待値: 7\n",
    "    std::cout << \"findMax(5, 5) の結果: \" << findMax(5, 5) << std::endl;      // 期待値: 5\n",
    "    std::cout << \"findMax(-1, -5) の結果: \" << findMax(-1, -5) << std::endl; // 期待値: -1\n",
    "//     return 0;\n",
    "// }"
   ]
  },
  {
   "cell_type": "markdown",
   "metadata": {},
   "source": [
    "## 問題8: 温度変換関数 🌡️\n",
    "\n",
    "摂氏温度（`double` 型）を引数として受け取り、それを華氏温度に変換して返す関数 `celsiusToFahrenheit` を作成してください。\n",
    "変換式: `華氏 = 摂氏 * 9.0 / 5.0 + 32.0`\n",
    "(計算には浮動小数点数を使うため、`9.0 / 5.0` のように `.0` を付けて計算してください。)\n",
    "\n",
    "作成した関数を使って、以下の摂氏温度を華氏温度に変換し、結果を表示してください。\n",
    "- 0°C\n",
    "- 25°C\n",
    "- 100°C"
   ]
  },
  {
   "cell_type": "markdown",
   "metadata": {},
   "source": [
    "<details>\n",
    "<summary>解答と解説を見る</summary>\n",
    "\n",
    "**解説:**\n",
    "1. 関数のシグネチャは `double celsiusToFahrenheit(double celsius)` のようになります。\n",
    "2. 関数の中で、与えられた摂氏温度 `celsius` を使って、指定された変換式に従って華氏温度を計算します。\n",
    "3. 計算結果の華氏温度を `return` します。\n",
    "4. `main` 関数（またはClingのセル）で、この関数を0, 25, 100といった具体的な摂氏温度で呼び出し、結果を出力して確認します。\n",
    "\n",
    "**コード例:**\n",
    "</details>"
   ]
  },
  {
   "cell_type": "code",
   "execution_count": null,
   "metadata": {
    "collapsed": true
   },
   "outputs": [],
   "source": [
    "#include <iostream>\n",
    "#include <iomanip> // std::fixed, std::setprecision のために必要\n",
    "\n",
    "// 摂氏温度を華氏温度に変換する関数\n",
    "double celsiusToFahrenheit(double celsius) {\n",
    "    double fahrenheit = celsius * 9.0 / 5.0 + 32.0;\n",
    "    return fahrenheit;\n",
    "}\n",
    "\n",
    "// main 関数 (Cling のセルでは直接コードを実行できるので必須ではない)\n",
    "// int main() { // Clingではmainなしで直接実行可能\n",
    "    double c1 = 0.0;\n",
    "    double c2 = 25.0;\n",
    "    double c3 = 100.0;\n",
    "\n",
    "    std::cout << std::fixed << std::setprecision(1); // 小数点以下1桁で表示\n",
    "\n",
    "    std::cout << c1 << \"°C は \" << celsiusToFahrenheit(c1) << \"°F です。\" << std::endl;\n",
    "    std::cout << c2 << \"°C は \" << celsiusToFahrenheit(c2) << \"°F です。\" << std::endl;\n",
    "    std::cout << c3 << \"°C は \" << celsiusToFahrenheit(c3) << \"°F です。\" << std::endl;\n",
    "//     return 0;\n",
    "// }"
   ]
  },
  {
   "cell_type": "markdown",
   "metadata": {},
   "source": [
    "## 🌟 全問クリアおめでとうございます！ 🌟\n",
    "\n",
    "これらの練習問題を通して、C++の基本的な概念の理解を深めることができたでしょうか。\n",
    "プログラミングは、実際にコードを書いて試行錯誤することで上達します。これからも色々な問題に挑戦したり、自分で作りたいものを作ってみたりして、楽しみながら学習を続けてください！"
   ]
  }
 ],
 "metadata": {
  "kernelspec": {
   "display_name": "C++17",
   "language": "C++17",
   "name": "xcpp17"
  },
  "language_info": {
   "codemirror_mode": "text/x-c++src",
   "file_extension": ".cpp",
   "mimetype": "text/x-c++src",
   "name": "c++",
   "nbconvert_exporter": "script",
   "version": "17"
  }
 },
 "nbformat": 4,
 "nbformat_minor": 5
}
