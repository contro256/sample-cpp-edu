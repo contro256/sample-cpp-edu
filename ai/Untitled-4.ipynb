{
 "nbformat": 4,
 "nbformat_minor": 5,
 "metadata": {
  "kernelspec": {
   "name": "cling-cpp17",
   "display_name": "C++17"
  },
  "language_info": {
   "name": "C++"
  }
 },
 "cells": [
  {
   "cell_type": "markdown",
   "source": [
    "# C++プログラミング入門 🚀 - 続き\n",
    "\n",
    "Jupyter Notebook と Cling C++インタープリターを使って、C++の基本をインタラクティブに学んでいきましょう！\n",
    "\n",
    "**このノートブックの使い方**\n",
    "1. 各セルには説明（Markdown）とC++コードが含まれています。\n",
    "2. コードセルを選択し、Shift + Enter キーを押すと、そのコードが実行され結果が表示されます。\n",
    "3. 色々な値を試したり、コードを改造したりして、C++の世界を探検してみてください！"
   ],
   "metadata": {}
  },
  {
   "cell_type": "markdown",
   "source": [
    "---"
   ],
   "metadata": {}
  },
  {
   "cell_type": "markdown",
   "source": [
    "### 目次\n",
    "\n",
    "1.  入力と出力 (I/O)\n",
    "2.  構造体 (struct)\n",
    "3.  クラス (class) の基礎\n",
    "4.  ポインタ (Pointer) の基礎\n",
    "5.  参照 (Reference) の基礎\n",
    "6.  簡単な演習問題"
   ],
   "metadata": {}
  },
  {
   "cell_type": "markdown",
   "source": [
    "---"
   ],
   "metadata": {}
  },
  {
   "cell_type": "markdown",
   "source": [
    "### 1. 入力と出力 (I/O)\n",
    "\n",
    "これまでは`cout`を使って画面に文字を表示してきました。ここでは、ユーザーからの入力を受け取る方法と、より柔軟な出力方法について学びます。\n",
    "\n",
    "#### 1.1 `cin` を使ってユーザーから入力を受け取る\n",
    "\n",
    "`cin` (character input) は、標準入力（通常はキーボード）からデータを読み込むために使用します。"
   ],
   "metadata": {}
  },
  {
   "cell_type": "code",
   "execution_count": null,
   "metadata": {},
   "outputs": [],
   "source": [
    "#include <iostream> // coutとcinを使うために必要\n",
    "\n",
    "int main() {\n",
    "    int age;\n",
    "    std::cout << \"あなたの年齢を入力してください: \";\n",
    "    std::cin >> age; // ユーザーが入力した整数をageに格納\n",
    "    std::cout << \"あなたの年齢は\" << age << \"歳ですね！\" << std::endl;\n",
    "    return 0;\n",
    "}"
   ]
  },
  {
   "cell_type": "markdown",
   "source": [
    "**実行してみよう！** 上のセルを実行して、年齢を入力してみてください。\n",
    "\n",
    "**練習問題:** ユーザーの名前と好きな食べ物を入力してもらい、それらを使ってメッセージを表示するプログラムを書いてみましょう。"
   ],
   "metadata": {}
  },
  {
   "cell_type": "code",
   "execution_count": null,
   "metadata": {},
   "outputs": [],
   "source": [
    "// ここにコードを書いてみよう！\n",
    "#include <iostream>\n",
    "#include <string> // 文字列を扱うために必要\n",
    "\n",
    "int main() {\n",
    "    std::string name;\n",
    "    std::string food;\n",
    "\n",
    "    std::cout << \"あなたの名前を入力してください: \";\n",
    "    std::cin >> name;\n",
    "\n",
    "    std::cout << \"好きな食べ物を入力してください: \";\n",
    "    std::cin >> food;\n",
    "\n",
    "    std::cout << \"こんにちは、\" << name << \"さん！ 好きな食べ物は\" << food << \"なのですね！\" << std::endl;\n",
    "\n",
    "    return 0;\n",
    "}"
   ]
  },
  {
   "cell_type": "markdown",
   "source": [
    "#### 1.2 `getline` を使って文字列の入力を受け取る\n",
    "\n",
    "`cin >> variable` はスペースや改行で区切られた単語しか読み込めません。複数単語からなる行全体を読み込みたい場合は、`getline` を使用します。"
   ],
   "metadata": {}
  },
  {
   "cell_type": "code",
   "execution_count": null,
   "metadata": {},
   "outputs": [],
   "source": [
    "#include <iostream>\n",
    "#include <string>\n",
    "\n",
    "int main() {\n",
    "    std::string full_name;\n",
    "    std::cout << \"あなたのフルネームを入力してください: \";\n",
    "    std::getline(std::cin, full_name); // 行全体を読み込む\n",
    "    std::cout << \"こんにちは、\" << full_name << \"さん！\" << std::endl;\n",
    "    return 0;\n",
    "}"
   ]
  },
  {
   "cell_type": "markdown",
   "source": [
    "**注意点:** `cin` の後に `getline` を使う場合、`cin` が残した改行文字が `getline` に読み込まれてしまうことがあります。これを防ぐには、`std::cin.ignore()` を使ってバッファをクリアします。"
   ],
   "metadata": {}
  },
  {
   "cell_type": "code",
   "execution_count": null,
   "metadata": {},
   "outputs": [],
   "source": [
    "#include <iostream>\n",
    "#include <string>\n",
    "#include <limits> // std::numeric_limitsを使うために必要\n",
    "\n",
    "int main() {\n",
    "    int favorite_number;\n",
    "    std::string comment;\n",
    "\n",
    "    std::cout << \"好きな数字を入力してください: \";\n",
    "    std::cin >> favorite_number;\n",
    "\n",
    "    // cinの後にgetlineを使う場合のおまじない\n",
    "    // std::cin.ignore(最大文字数, どの文字までスキップするか); ここでは改行までスキップ\n",
    "    std::cin.ignore(std::numeric_limits<std::streamsize>::max(), '\\n');\n",
    "\n",
    "    std::cout << \"その数字についてコメントを入力してください: \";\n",
    "    std::getline(std::cin, comment);\n",
    "\n",
    "    std::cout << \"好きな数字: \" << favorite_number << std::endl;\n",
    "    std::cout << \"コメント: \" << comment << std::endl;\n",
    "    return 0;\n",
    "}"
   ]
  },
  {
   "cell_type": "markdown",
   "source": [
    "**実行してみよう！** 上のセルを実行して、違いを確認してください。\n",
    "\n",
    "---"
   ],
   "metadata": {}
  },
  {
   "cell_type": "markdown",
   "source": [
    "### 2. 構造体 (struct)\n",
    "\n",
    "構造体は、異なる型のデータをひとつのまとまりとして扱うためのものです。例えば、生徒の名前、年齢、成績などをまとめて管理したい場合に便利です。"
   ],
   "metadata": {}
  },
  {
   "cell_type": "markdown",
   "source": [
    "#### 2.1 構造体の定義と利用"
   ],
   "metadata": {}
  },
  {
   "cell_type": "code",
   "execution_count": null,
   "metadata": {},
   "outputs": [],
   "source": [
    "#include <iostream>\n",
    "#include <string>\n",
    "\n",
    "// Studentという構造体を定義\n",
    "struct Student {\n",
    "    std::string name;\n",
    "    int age;\n",
    "    double grade;\n",
    "};\n",
    "\n",
    "int main() {\n",
    "    // Student型の変数を宣言し、値を設定\n",
    "    Student student1;\n",
    "    student1.name = \"山田太郎\";\n",
    "    student1.age = 16;\n",
    "    student1.grade = 85.5;\n",
    "\n",
    "    // 構造体のメンバにアクセスして表示\n",
    "    std::cout << \"生徒の名前: \" << student1.name << std::endl;\n",
    "    std::cout << \"生徒の年齢: \" << student1.age << std::endl;\n",
    "    std::cout << \"生徒の成績: \" << student1.grade << std::endl;\n",
    "\n",
    "    // 別の生徒を作成\n",
    "    Student student2 = {\"佐藤花子\", 17, 92.0}; // 初期化子リストを使った初期化\n",
    "\n",
    "    std::cout << \"\\n別の生徒の情報:\" << std::endl;\n",
    "    std::cout << \"生徒の名前: \" << student2.name << std::endl;\n",
    "    std::cout << \"生徒の年齢: \" << student2.age << std::endl;\n",
    "    std::cout << \"生徒の成績: \" << student2.grade << std::endl;\n",
    "\n",
    "    return 0;\n",
    "}"
   ]
  },
  {
   "cell_type": "markdown",
   "source": [
    "**実行してみよう！**\n",
    "\n",
    "**練習問題:** 構造体 `Book` を定義し、本のタイトル、著者、出版年を保持するようにしてください。そして、2冊の本の情報を変数に格納し、表示するプログラムを書いてみましょう。"
   ],
   "metadata": {}
  },
  {
   "cell_type": "code",
   "execution_count": null,
   "metadata": {},
   "outputs": [],
   "source": [
    "// ここにコードを書いてみよう！\n",
    "#include <iostream>\n",
    "#include <string>\n",
    "\n",
    "// Book構造体の定義\n",
    "struct Book {\n",
    "    std::string title;\n",
    "    std::string author;\n",
    "    int publication_year;\n",
    "};\n",
    "\n",
    "int main() {\n",
    "    Book book1;\n",
    "    book1.title = \"吾輩は猫である\";\n",
    "    book1.author = \"夏目漱石\";\n",
    "    book1.publication_year = 1905;\n",
    "\n",
    "    std::cout << \"本のタイトル: \" << book1.title << std::endl;\n",
    "    std::cout << \"著者: \" << book1.author << std::endl;\n",
    "    std::cout << \"出版年: \" << book1.publication_year << std::endl;\n",
    "\n",
    "    std::cout << \"\\n---\" << std::endl;\n",
    "\n",
    "    Book book2 = {\"銀河鉄道の夜\", \"宮沢賢治\", 1927};\n",
    "    std::cout << \"本のタイトル: \" << book2.title << std::endl;\n",
    "    std::cout << \"著者: \" << book2.author << std::endl;\n",
    "    std::cout << \"出版年: \" << book2.publication_year << std::endl;\n",
    "\n",
    "    return 0;\n",
    "}"
   ]
  },
  {
   "cell_type": "markdown",
   "source": [
    "---"
   ],
   "metadata": {}
  },
  {
   "cell_type": "markdown",
   "source": [
    "### 3. クラス (class) の基礎\n",
    "\n",
    "クラスは、構造体と似ていますが、データ（メンバ変数）だけでなく、そのデータを操作する関数（メンバ関数またはメソッド）も一緒にまとめることができます。これにより、より複雑なプログラムを整理しやすくなります。クラスはオブジェクト指向プログラミングの基本です。"
   ],
   "metadata": {}
  },
  {
   "cell_type": "markdown",
   "source": [
    "#### 3.1 クラスの定義とオブジェクトの作成"
   ],
   "metadata": {}
  },
  {
   "cell_type": "code",
   "execution_count": null,
   "metadata": {},
   "outputs": [],
   "source": [
    "#include <iostream>\n",
    "#include <string>\n",
    "\n",
    "// Carというクラスを定義\n",
    "class Car {\n",
    "public: // この後に続くメンバは、クラスの外からアクセスできることを意味する\n",
    "    std::string brand; // メンバ変数（データ）\n",
    "    std::string model;\n",
    "    int year;\n",
    "\n",
    "    // メンバ関数（メソッド）: 車の情報を表示する\n",
    "    void displayInfo() {\n",
    "        std::cout << \"ブランド: \" << brand << \", モデル: \" << model << \", 年式: \" << year << std::endl;\n",
    "    }\n",
    "};\n",
    "\n",
    "int main() {\n",
    "    // Carクラスのオブジェクト（インスタンス）を作成\n",
    "    Car myCar;\n",
    "    myCar.brand = \"Toyota\";\n",
    "    myCar.model = \"Corolla\";\n",
    "    myCar.year = 2020;\n",
    "\n",
    "    // メンバ関数を呼び出して情報を表示\n",
    "    myCar.displayInfo();\n",
    "\n",
    "    Car anotherCar;\n",
    "    anotherCar.brand = \"Honda\";\n",
    "    anotherCar.model = \"Civic\";\n",
    "    anotherCar.year = 2022;\n",
    "    anotherCar.displayInfo();\n",
    "\n",
    "    return 0;\n",
    "}"
   ]
  },
  {
   "cell_type": "markdown",
   "source": [
    "**実行してみよう！**\n",
    "\n",
    "#### 3.2 コンストラクタ (Constructor)\n",
    "\n",
    "コンストラクタは、クラスのオブジェクトが作成されるときに自動的に呼び出される特殊なメンバ関数です。オブジェクトを初期化するのに使われます。"
   ],
   "metadata": {}
  },
  {
   "cell_type": "code",
   "execution_count": null,
   "metadata": {},
   "outputs": [],
   "source": [
    "#include <iostream>\n",
    "#include <string>\n",
    "\n",
    "class Dog {\n",
    "public:\n",
    "    std::string name;\n",
    "    int age;\n",
    "\n",
    "    // コンストラクタ\n",
    "    // クラス名と同じ名前で、戻り値の型がない\n",
    "    Dog(std::string n, int a) {\n",
    "        name = n;\n",
    "        age = a;\n",
    "        std::cout << name << \"が生まれました！\" << std::endl;\n",
    "    }\n",
    "\n",
    "    void bark() {\n",
    "        std::cout << name << \"がワンワンと吠えています！\" << std::endl;\n",
    "    }\n",
    "};\n",
    "\n",
    "int main() {\n",
    "    Dog dog1(\"ポチ\", 3); // オブジェクト作成時にコンストラクタが呼び出される\n",
    "    dog1.bark();\n",
    "\n",
    "    Dog dog2(\"ハル\", 5);\n",
    "    dog2.bark();\n",
    "\n",
    "    return 0;\n",
    "}"
   ]
  },
  {
   "cell_type": "markdown",
   "source": [
    "**実行してみよう！**\n",
    "\n",
    "**練習問題:** `Rectangle` というクラスを作成し、`width`（幅）と `height`（高さ）というメンバ変数を持つようにしてください。コンストラクタで幅と高さを初期化できるようにし、`getArea()` という面積を計算して返すメンバ関数を追加しましょう。"
   ],
   "metadata": {}
  },
  {
   "cell_type": "code",
   "execution_count": null,
   "metadata": {},
   "outputs": [],
   "source": [
    "// ここにコードを書いてみよう！\n",
    "#include <iostream>\n",
    "\n",
    "// Rectangleクラスの定義\n",
    "class Rectangle {\n",
    "public:\n",
    "    double width;\n",
    "    double height;\n",
    "\n",
    "    // コンストラクタ\n",
    "    Rectangle(double w, double h) {\n",
    "        width = w;\n",
    "        height = h;\n",
    "    }\n",
    "\n",
    "    // 面積を計算して返すメンバ関数\n",
    "    double getArea() {\n",
    "        return width * height;\n",
    "    }\n",
    "};\n",
    "\n",
    "int main() {\n",
    "    Rectangle rect1(10.0, 5.0);\n",
    "    std::cout << \"長方形の幅: \" << rect1.width << \", 高さ: \" << rect1.height << std::endl;\n",
    "    std::cout << \"面積: \" << rect1.getArea() << std::endl;\n",
    "\n",
    "    Rectangle rect2(7.5, 3.2);\n",
    "    std::cout << \"\\n長方形の幅: \" << rect2.width << \", 高さ: \" << rect2.height << std::endl;\n",
    "    std::cout << \"面積: \" << rect2.getArea() << std::endl;\n",
    "\n",
    "    return 0;\n",
    "}"
   ]
  },
  {
   "cell_type": "markdown",
   "source": [
    "---"
   ],
   "metadata": {}
  },
  {
   "cell_type": "markdown",
   "source": [
    "### 4. ポインタ (Pointer) の基礎\n",
    "\n",
    "ポインタは、変数の「アドレス」（メモリ上の場所）を格納する変数です。ポインタを使うと、メモリを直接操作したり、関数に大きなデータを効率的に渡したりすることができます。"
   ],
   "metadata": {}
  },
  {
   "cell_type": "markdown",
   "source": [
    "#### 4.1 ポインタの宣言とアドレスの取得\n",
    "\n",
    "変数のアドレスを取得するには `&` 演算子を使います。ポインタを宣言するには `*` を使います。"
   ],
   "metadata": {}
  },
  {
   "cell_type": "code",
   "execution_count": null,
   "metadata": {},
   "outputs": [],
   "source": [
    "#include <iostream>\n",
    "\n",
    "int main() {\n",
    "    int var = 10;          // int型の変数\n",
    "    int* ptr;             // int型を指すポインタを宣言\n",
    "\n",
    "    ptr = &var;            // ptrにvarのアドレスを格納\n",
    "\n",
    "    std::cout << \"varの値: \" << var << std::endl;\n",
    "    std::cout << \"varのアドレス: \" << &var << std::endl; // &でアドレスを取得\n",
    "    std::cout << \"ptrが保持するアドレス: \" << ptr << std::endl;\n",
    "    std::cout << \"ptrが指す場所の値: \" << *ptr << std::endl; // *でポインタが指す場所の値にアクセス (間接参照)\n",
    "\n",
    "    // ポインタを使ってvarの値を変更\n",
    "    *ptr = 20;\n",
    "    std::cout << \"\\n*ptrを使って値を変更した後:\" << std::endl;\n",
    "    std::cout << \"varの値: \" << var << std::endl; // varの値も20に変わっている\n",
    "    return 0;\n",
    "}"
   ]
  },
  {
   "cell_type": "markdown",
   "source": [
    "**実行してみよう！**\n",
    "\n",
    "#### 4.2 ポインタと配列\n",
    "\n",
    "配列の名前は、その配列の最初の要素へのポインタとして機能します。"
   ],
   "metadata": {}
  },
  {
   "cell_type": "code",
   "execution_count": null,
   "metadata": {},
   "outputs": [],
   "source": [
    "#include <iostream>\n",
    "\n",
    "int main() {\n",
    "    int numbers[] = {10, 20, 30, 40, 50};\n",
    "\n",
    "    std::cout << \"numbers[0]のアドレス: \" << &numbers[0] << std::endl;\n",
    "    std::cout << \"numbersのアドレス (配列の先頭): \" << numbers << std::endl; // 配列名そのものが先頭要素へのポインタ\n",
    "\n",
    "    int* p = numbers; // 配列の先頭へのポインタ\n",
    "\n",
    "    std::cout << \"\\npが指す値 (numbers[0]): \" << *p << std::endl;\n",
    "\n",
    "    p++; // ポインタを1つ進める (次の要素へ)\n",
    "    std::cout << \"pを1つ進めた後の値 (numbers[1]): \" << *p << std::endl;\n",
    "\n",
    "    p += 2; // ポインタを2つ進める (さらに次の2つの要素へ)\n",
    "    std::cout << \"pを2つ進めた後の値 (numbers[3]): \" << *p << std::endl;\n",
    "\n",
    "    return 0;\n",
    "}"
   ]
  },
  {
   "cell_type": "markdown",
   "source": [
    "**実行してみよう！**\n",
    "\n",
    "**ポインタは強力ですが、誤って使うとプログラムがクラッシュする原因にもなります。** 慣れるまでは慎重に扱いましょう。\n",
    "\n",
    "---"
   ],
   "metadata": {}
  },
  {
   "cell_type": "markdown",
   "source": [
    "### 5. 参照 (Reference) の基礎\n",
    "\n",
    "参照は、既存の変数に別の名前（別名）を与えるものです。ポインタのようにアドレスを直接操作するのではなく、あたかも元の変数そのものであるかのように扱えます。"
   ],
   "metadata": {}
  },
  {
   "cell_type": "markdown",
   "source": [
    "#### 5.1 参照の宣言と利用\n",
    "\n",
    "参照は宣言時に必ず初期化する必要があります。一度初期化すると、別の変数を参照するように変更することはできません。"
   ],
   "metadata": {}
  },
  {
   "cell_type": "code",
   "execution_count": null,
   "metadata": {},
   "outputs": [],
   "source": [
    "#include <iostream>\n",
    "\n",
    "int main() {\n",
    "    int original_value = 100;\n",
    "    int& ref = original_value; // original_valueへの参照を宣言\n",
    "\n",
    "    std::cout << \"original_valueの値: \" << original_value << std::endl;\n",
    "    std::cout << \"refの値: \" << ref << std::endl;\n",
    "\n",
    "    ref = 200; // 参照を通してoriginal_valueの値を変更\n",
    "    std::cout << \"\\nrefを通して値を変更した後:\" << std::endl;\n",
    "    std::cout << \"original_valueの値: \" << original_value << std::endl; // original_valueも200に変わっている\n",
    "    std::cout << \"refの値: \" << ref << std::endl;\n",
    "\n",
    "    return 0;\n",
    "}"
   ]
  },
  {
   "cell_type": "markdown",
   "source": [
    "**実行してみよう！**\n",
    "\n",
    "#### 5.2 関数における参照渡し\n",
    "\n",
    "関数に引数を渡す際に参照を使うと、関数内で引数の値を変更した場合、呼び出し元の変数の値も変更されます。これは「参照渡し」と呼ばれ、大きなデータをコピーせずに効率的に関数に渡す場合や、複数の値を関数から返したい場合に便利です。"
   ],
   "metadata": {}
  },
  {
   "cell_type": "code",
   "execution_count": null,
   "metadata": {},
   "outputs": [],
   "source": [
    "#include <iostream>\n",
    "\n",
    "// 値渡しの場合: 引数(x)のコピーが関数に渡される\n",
    "void addOne_by_value(int x) {\n",
    "    x = x + 1;\n",
    "    std::cout << \"関数内 (値渡し): x = \" << x << std::endl;\n",
    "}\n",
    "\n",
    "// 参照渡しの場合: 引数(x)は元の変数への別名\n",
    "void addOne_by_reference(int& x) {\n",
    "    x = x + 1;\n",
    "    std::cout << \"関数内 (参照渡し): x = \" << x << std::endl;\n",
    "}\n",
    "\n",
    "int main() {\n",
    "    int num1 = 5;\n",
    "    std::cout << \"呼び出し前 (値渡し): num1 = \" << num1 << std::endl;\n",
    "    addOne_by_value(num1);\n",
    "    std::cout << \"呼び出し後 (値渡し): num1 = \" << num1 << std::endl; // 変更されない\n",
    "\n",
    "    std::cout << \"----------------------\" << std::endl;\n",
    "\n",
    "    int num2 = 5;\n",
    "    std::cout << \"呼び出し前 (参照渡し): num2 = \" << num2 << std::endl;\n",
    "    addOne_by_reference(num2);\n",
    "    std::cout << \"呼び出し後 (参照渡し): num2 = \" << num2 << std::endl; // 変更される\n",
    "\n",
    "    return 0;\n",
    "}"
   ]
  },
  {
   "cell_type": "markdown",
   "source": [
    "**実行してみよう！** 参照渡しが元の変数にどのような影響を与えるか、確認してください。\n",
    "\n",
    "---"
   ],
   "metadata": {}
  },
  {
   "cell_type": "markdown",
   "source": [
    "### 6. 簡単な演習問題\n",
    "\n",
    "これまでに学んだことを活用して、以下の問題を解いてみましょう。"
   ],
   "metadata": {}
  },
  {
   "cell_type": "markdown",
   "source": [
    "#### 演習問題1: ユーザー情報を扱うプログラム\n",
    "\n",
    "以下の要件を満たすC++プログラムを書いてください。\n",
    "\n",
    "1.  `User` という構造体（またはクラス）を定義し、以下のメンバを持つようにしてください。\n",
    "    * `std::string name;`\n",
    "    * `int age;`\n",
    "    * `std::string email;`\n",
    "2.  `main` 関数内で、ユーザーに名前、年齢、メールアドレスを入力してもらい、それらを`User`型の変数に格納してください。\n",
    "3.  入力されたユーザー情報を表示する関数 `displayUser(User u)` を作成し、それを使って情報を表示してください。\n",
    "4.  ユーザーの年齢を1歳増やす関数 `celebrateBirthday(User& u)` を作成し、参照渡しを使って元のユーザーの年齢を変更できるようにしてください。\n",
    "5.  年齢変更後、再度`displayUser`関数を使って情報を表示してください。"
   ],
   "metadata": {}
  },
  {
   "cell_type": "code",
   "execution_count": null,
   "metadata": {},
   "outputs": [],
   "source": [
    "// ここにコードを書いてみよう！\n",
    "#include <iostream>\n",
    "#include <string>\n",
    "#include <limits>\n",
    "\n",
    "// 1. User構造体（またはクラス）の定義\n",
    "struct User {\n",
    "    std::string name;\n",
    "    int age;\n",
    "    std::string email;\n",
    "};\n",
    "\n",
    "// 3. displayUser関数の定義\n",
    "void displayUser(User u) {\n",
    "    std::cout << \"\\n--- ユーザー情報 ---\" << std::endl;\n",
    "    std::cout << \"名前: \" << u.name << std::endl;\n",
    "    std::cout << \"年齢: \" << u.age << std::endl;\n",
    "    std::cout << \"メールアドレス: \" << u.email << std::endl;\n",
    "    std::cout << \"-------------------\" << std::endl;\n",
    "}\n",
    "\n",
    "// 4. celebrateBirthday関数の定義\n",
    "void celebrateBirthday(User& u) {\n",
    "    u.age++;\n",
    "    std::cout << \"\\nお誕生日おめでとうございます！年齢が1歳増えました。\" << std::endl;\n",
    "}\n",
    "\n",
    "int main() {\n",
    "    // 2. ユーザー情報の入力と格納\n",
    "    User currentUser;\n",
    "\n",
    "    std::cout << \"あなたの名前を入力してください: \";\n",
    "    std::getline(std::cin, currentUser.name);\n",
    "\n",
    "    std::cout << \"あなたの年齢を入力してください: \";\n",
    "    std::cin >> currentUser.age;\n",
    "    std::cin.ignore(std::numeric_limits<std::streamsize>::max(), '\\n'); // バッファクリア\n",
    "\n",
    "    std::cout << \"あなたのメールアドレスを入力してください: \";\n",
    "    std::getline(std::cin, currentUser.email);\n",
    "\n",
    "    // 3. ユーザー情報の表示\n",
    "    displayUser(currentUser);\n",
    "\n",
    "    // 4. 年齢を1歳増やす\n",
    "    celebrateBirthday(currentUser);\n",
    "\n",
    "    // 5. 年齢変更後、再度情報を表示\n",
    "    displayUser(currentUser);\n",
    "\n",
    "    return 0;\n",
    "}"
   ]
  }
 ]
}