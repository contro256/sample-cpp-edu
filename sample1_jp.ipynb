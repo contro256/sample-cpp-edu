{
 "cells": [
  {
   "cell_type": "markdown",
   "id": "dfa709a5-f55e-48b5-8817-6c058523294a",
   "metadata": {},
   "source": [
    "# C++でプログラミングを学ぼう\n",
    "\n",
    "ここでは、高等学校情報科1で扱われる内容をもとに、主に共通テスト対策として利用できるレベルまでの学習を目指します。  \n",
    "まずは、C++の基本的な構文を学びましょう\n",
    "\n",
    "## 1. Hello World!\n",
    "\n",
    "まずは、次のコードを実行してみましょう。セルを選択してSHIFT+ENTER、または左上の三角から実行できます。"
   ]
  },
  {
   "cell_type": "code",
   "execution_count": null,
   "id": "9dac548e-b8e6-4f29-9380-c7faea6da81d",
   "metadata": {},
   "outputs": [],
   "source": [
    "#include <iostream>\n",
    "\n",
    "std::cout << \"Hello World!\" << \"\\n\";"
   ]
  },
  {
   "cell_type": "markdown",
   "id": "dc5d0962-906a-4e4f-9d03-cf6ae883eb89",
   "metadata": {},
   "source": [
    "Hello World!と出力できました。これでプログラミングの学習を始められます。\n",
    "\n",
    "## 2. 基本構文\n",
    "\n",
    "### 2.1 プリプロセッサ指令 (preprocessor directives)\n",
    "*覚える必要はありません* 最初のコード`#include <iostream>`はプリプロセッサ指令の一つです。実際はiostreamと名前のついたすでに存在するファイルをコピーアンドペーストして、すでに定義された関数を利用できるようにしているだけです。\n",
    "\n",
    "### 2.2　基本入出力 (standard input/output)\n",
    "`std::cout`は出力、`std::cin`は入力です。上のコードでは、演算子`<<`を用いて、`\"Hello World!\"`という文字と、`\"\\n\"`という改行を表すものを出力しています。  \n",
    "`std::cout <<`はよく使うので、覚えておきましょう。また、コードの最後の`;`はコードの終わりを表しています。すなわち、次のようなコードを書くことができます。"
   ]
  },
  {
   "cell_type": "code",
   "execution_count": null,
   "id": "1fdd0ac4-34b6-4355-a29b-7362aba88040",
   "metadata": {},
   "outputs": [],
   "source": [
    "std::cout << \"Hello\"; std::cout << \"\\n\";"
   ]
  },
  {
   "cell_type": "markdown",
   "id": "a30af56f-5de2-4770-aec9-d5422b8c5d1f",
   "metadata": {},
   "source": [
    "### 2.3 型 (type)\n",
    "C++では、型と呼ばれるものを意識しなければなりません。型とは、簡単に言えばコンピューターがどのように値や文字などを扱うか、というものです。\n",
    "よく使われるものを見てみましょう。\n",
    "\n",
    "**bool**   論理型(boolean)を表します。1bitで、1がtrue(真)、0がfalse(偽)を表します。  \n",
    "**int**    符号付き整数(signed integer)を表します。符号とはプラスとマイナスのことで、符号に1bit使用します。一般的には32bit(=4byte)で、-2,147,483,648 ～ 2,147,483,647の値を取ることができます。  \n",
    "**long**   符号付き整数を表します。一般的には64bit(=8byte)で、intよりも大きな整数を扱うことができます。  \n",
    "**float**  単精度浮動小数点数(single-precision floating-point number)を表します。一般的には32bit(=4byte)で、小数を扱うことができます。  \n",
    "**double** 倍精度浮動小数点数(double-precision floating-point number)を表します。一般的には64bit(=8byte)で、floatより良い精度かつ大きな値の小数を扱うことができます。  \n",
    "**char**   文字(character)を表します。ASCIIに載っている文字(英数字と記号のみ, 日本語は不可)に対応した値を取ることができます。  \n",
    "**std::string** 様々な文字列を表すことができます。明示的に指定しない限り、内部で文字の型が決定されます。日本語が使用可能です。  \n",
    "\n",
    "そのほかにも様々な型があります。一部の型は仕様で明確なbit数が決まっていないため、整数などではbit数が仕様で決められている**int8_t**や**int16_t**を使うことがあります。また、それぞれの型には符号なし(unsigned)が用意されており、正の値のみを利用する場合はこちらを利用してもいいでしょう。\n",
    "\n",
    "### 2.4 変数 (variables)\n",
    "変数は、値を保持することができます。コードの例を見てみましょう。"
   ]
  },
  {
   "cell_type": "code",
   "execution_count": null,
   "id": "3410efb8-5e28-4e57-8d22-3d2004a33cc8",
   "metadata": {},
   "outputs": [],
   "source": [
    "int x; //プロトタイプ宣言 int x = 1;としてもよい\n",
    "x = 1; //代入\n",
    "std::cout << x << \"\\n\"; //変数が保持している値を表示"
   ]
  },
  {
   "cell_type": "markdown",
   "id": "bb5c2971-4630-4761-a526-f850886b6cb7",
   "metadata": {},
   "source": [
    "変数を扱うには、まず、変数を宣言します。宣言方法は、\n",
    "型 変数の名前;  \n",
    "とします。また、最初から値を代入することができます。その場合は、  \n",
    "型　変数の名前 = 値;  \n",
    "とします。変数への代入にはイコール`=`を用い、左辺に代入先の変数を置きます。 \n",
    "変数から変数に代入する際には、左辺に代入先、右辺に代入元を置きます。"
   ]
  },
  {
   "cell_type": "code",
   "execution_count": null,
   "id": "0e73370b-22ca-45ef-8642-555eab6cb899",
   "metadata": {},
   "outputs": [],
   "source": [
    "double y = 2.3;\n",
    "double z;\n",
    "z = y;\n",
    "std::cout << z << \"\\n\";"
   ]
  },
  {
   "cell_type": "markdown",
   "id": "bcca4356-9281-4264-9164-981e88209592",
   "metadata": {},
   "source": [
    "変数が宣言されたとき、プログラムはただ変数用のメモリを確保しただけであり、代入を行うまで値はわかりません。  \n",
    "すなわち、どのような値が最初から入っていてもおかしくないということです。これをC言語では鼻から悪魔とユーモアをこめて読んでいます。  \n",
    "鼻から悪魔が出たとしても不思議ではない、という意味です。  "
   ]
  },
  {
   "cell_type": "code",
   "execution_count": null,
   "id": "a139447b-dda2-4dae-a1c1-69d99d21dfea",
   "metadata": {},
   "outputs": [],
   "source": [
    "int a;\n",
    "std::cout << a << \"\\n\"; // warning! aは初期化されていません"
   ]
  },
  {
   "cell_type": "markdown",
   "id": "2641f819-269e-4714-8c11-787671562975",
   "metadata": {},
   "source": [
    "### 2.5 配列(array)\n",
    "C/C++では、同じ大きさの型をメモリ上で連続に確保したものを配列と呼んでいます。また、他の考え方では、変数をつなげたものとも考えられます。  \n",
    "宣言方法は以下のとおりです。  \n",
    "型 配列の名前[配列の大きさ]; \n",
    "また、配列の要素にアクセスする場合は、  \n",
    "配列[インデックス]  \n",
    "のようにします。インデックス(index)とは、配列が前から何番目なのかを表します。配列の要素数をnとすると、最初は0番目から始まり、最後はn-1番目です。  "
   ]
  },
  {
   "cell_type": "code",
   "execution_count": null,
   "id": "f9f26749-b7d2-4d0f-8395-262a84932d6f",
   "metadata": {},
   "outputs": [],
   "source": [
    "int arr[5]; //int型で5つの要素をもつ配列arrを宣言\n",
    "arr[0] = 1; //arrの0番目に1を代入\n",
    "arr[1] = 2; //arrの1番目に2を代入\n",
    "arr[2] = arr[0] + arr[1]; //arrの2番目にarrの0番目とarrの1番目が持つ値を足したものを代入\n",
    "std::cout << arr[2] << \"\\n\"; //arrの2番目を表示"
   ]
  }
 ],
 "metadata": {
  "kernelspec": {
   "display_name": "ROOT C++",
   "language": "c++",
   "name": "root"
  },
  "language_info": {
   "codemirror_mode": "text/x-c++src",
   "file_extension": ".C",
   "mimetype": " text/x-c++src",
   "name": "c++"
  }
 },
 "nbformat": 4,
 "nbformat_minor": 5
}
