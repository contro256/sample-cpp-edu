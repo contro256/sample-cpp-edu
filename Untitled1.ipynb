{
 "cells": [
  {
   "cell_type": "code",
   "execution_count": 3,
   "id": "ba9609ae-1bac-4d69-b555-99a886925a96",
   "metadata": {},
   "outputs": [
    {
     "name": "stdout",
     "output_type": "stream",
     "text": [
      "hello\n"
     ]
    }
   ],
   "source": [
    "#include<iostream>\n",
    "std::cout << \"hello\" << std::endl;"
   ]
  },
  {
   "cell_type": "code",
   "execution_count": 1,
   "id": "29faab55-6977-4328-8bba-811abd0a3cd5",
   "metadata": {},
   "outputs": [
    {
     "name": "stdout",
     "output_type": "stream",
     "text": [
      "test\n"
     ]
    }
   ],
   "source": [
    "std::cout << \"test\" << std::endl;"
   ]
  },
  {
   "cell_type": "code",
   "execution_count": 4,
   "id": "4191680d-2c41-44ed-ade8-430163c7ef4b",
   "metadata": {},
   "outputs": [
    {
     "name": "stdout",
     "output_type": "stream",
     "text": [
      "5\n"
     ]
    }
   ],
   "source": [
    "#include <iostream>\n",
    "#include <vector>\n",
    "\n",
    "int binarySearch(const std::vector<int>& arr, int target) {\n",
    "  int low = 0;\n",
    "  int high = arr.size() - 1;\n",
    "\n",
    "  while (low <= high) {\n",
    "    int mid = low + (high - low) / 2; // To prevent potential overflow\n",
    "\n",
    "    if (arr[mid] == target) {\n",
    "      return mid; // Target found at index mid\n",
    "    } else if (arr[mid] < target) {\n",
    "      low = mid + 1; // Target is in the right half\n",
    "    } else {\n",
    "      high = mid - 1; // Target is in the left half\n",
    "    }\n",
    "  }\n",
    "  return -1; // Target not found\n",
    "}\n",
    "\n",
    "std::vector<int> sortedArray = {2, 5, 8, 12, 16, 23, 38, 56, 72, 91};\n",
    "int targetValue = 23;\n",
    "\n",
    "int result = binarySearch(sortedArray, targetValue);\n",
    "std::cout << result << std::endl;"
   ]
  },
  {
   "cell_type": "code",
   "execution_count": 6,
   "id": "3f6dbda8-e7fa-48d1-8000-3dcd91a1aacd",
   "metadata": {},
   "outputs": [
    {
     "name": "stdout",
     "output_type": "stream",
     "text": [
      "hello\n"
     ]
    }
   ],
   "source": [
    "cout << \"hello\" << endl;"
   ]
  },
  {
   "cell_type": "code",
   "execution_count": null,
   "id": "d2e4588b-deb5-474b-83d0-952b69c7809d",
   "metadata": {},
   "outputs": [],
   "source": []
  }
 ],
 "metadata": {
  "kernelspec": {
   "display_name": "ROOT C++",
   "language": "c++",
   "name": "root"
  },
  "language_info": {
   "codemirror_mode": "text/x-c++src",
   "file_extension": ".C",
   "mimetype": " text/x-c++src",
   "name": "c++"
  }
 },
 "nbformat": 4,
 "nbformat_minor": 5
}
